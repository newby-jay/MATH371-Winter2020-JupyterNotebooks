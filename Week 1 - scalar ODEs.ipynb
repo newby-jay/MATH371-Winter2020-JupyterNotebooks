{
 "cells": [
  {
   "cell_type": "markdown",
   "metadata": {},
   "source": [
    "# In this class, you will learn to use Python!\n",
    "Helpful online reference for Python \n",
    "  * https://docs.python.org/3/tutorial/introduction.html\n",
    "  * https://docs.python.org/3/tutorial/controlflow.html\n",
    "  \n",
    "Optional extra learning material: An online course for Python \n",
    "  * https://ocw.mit.edu/courses/electrical-engineering-and-computer-science/6-0001-introduction-to-computer-science-and-programming-in-python-fall-2016/index.htm"
   ]
  },
  {
   "cell_type": "code",
   "execution_count": 2,
   "metadata": {},
   "outputs": [
    {
     "name": "stdout",
     "output_type": "stream",
     "text": [
      "Populating the interactive namespace from numpy and matplotlib\n"
     ]
    }
   ],
   "source": [
    "#### These three lines should be in a cell at the top of any notebook\n",
    "#### These lines load standard tools that will be usefull to us\n",
    "%pylab inline\n",
    "%config InlineBackend.figure_format = 'retina'\n",
    "from ipywidgets import interact"
   ]
  },
  {
   "cell_type": "markdown",
   "metadata": {},
   "source": [
    "# Understanding cell output\n",
    "Use the `print()` function to output raw values stored in a variable"
   ]
  },
  {
   "cell_type": "code",
   "execution_count": 3,
   "metadata": {},
   "outputs": [
    {
     "name": "stdout",
     "output_type": "stream",
     "text": [
      "hello world\n",
      "10 1.1321\n",
      "[0 1 2]\n"
     ]
    }
   ],
   "source": [
    "print('hello world')\n",
    "print(10, 1.1321)\n",
    "n = arange(3)\n",
    "print(n)"
   ]
  },
  {
   "cell_type": "markdown",
   "metadata": {},
   "source": [
    "# How to get help within Jupyter"
   ]
  },
  {
   "cell_type": "code",
   "execution_count": 4,
   "metadata": {
    "scrolled": false
   },
   "outputs": [
    {
     "name": "stdout",
     "output_type": "stream",
     "text": [
      "Help on built-in function arange in module numpy:\n",
      "\n",
      "arange(...)\n",
      "    arange([start,] stop[, step,], dtype=None)\n",
      "    \n",
      "    Return evenly spaced values within a given interval.\n",
      "    \n",
      "    Values are generated within the half-open interval ``[start, stop)``\n",
      "    (in other words, the interval including `start` but excluding `stop`).\n",
      "    For integer arguments the function is equivalent to the Python built-in\n",
      "    `range` function, but returns an ndarray rather than a list.\n",
      "    \n",
      "    When using a non-integer step, such as 0.1, the results will often not\n",
      "    be consistent.  It is better to use `numpy.linspace` for these cases.\n",
      "    \n",
      "    Parameters\n",
      "    ----------\n",
      "    start : number, optional\n",
      "        Start of interval.  The interval includes this value.  The default\n",
      "        start value is 0.\n",
      "    stop : number\n",
      "        End of interval.  The interval does not include this value, except\n",
      "        in some cases where `step` is not an integer and floating point\n",
      "        round-off affects the length of `out`.\n",
      "    step : number, optional\n",
      "        Spacing between values.  For any output `out`, this is the distance\n",
      "        between two adjacent values, ``out[i+1] - out[i]``.  The default\n",
      "        step size is 1.  If `step` is specified as a position argument,\n",
      "        `start` must also be given.\n",
      "    dtype : dtype\n",
      "        The type of the output array.  If `dtype` is not given, infer the data\n",
      "        type from the other input arguments.\n",
      "    \n",
      "    Returns\n",
      "    -------\n",
      "    arange : ndarray\n",
      "        Array of evenly spaced values.\n",
      "    \n",
      "        For floating point arguments, the length of the result is\n",
      "        ``ceil((stop - start)/step)``.  Because of floating point overflow,\n",
      "        this rule may result in the last element of `out` being greater\n",
      "        than `stop`.\n",
      "    \n",
      "    See Also\n",
      "    --------\n",
      "    linspace : Evenly spaced numbers with careful handling of endpoints.\n",
      "    ogrid: Arrays of evenly spaced numbers in N-dimensions.\n",
      "    mgrid: Grid-shaped arrays of evenly spaced numbers in N-dimensions.\n",
      "    \n",
      "    Examples\n",
      "    --------\n",
      "    >>> np.arange(3)\n",
      "    array([0, 1, 2])\n",
      "    >>> np.arange(3.0)\n",
      "    array([ 0.,  1.,  2.])\n",
      "    >>> np.arange(3,7)\n",
      "    array([3, 4, 5, 6])\n",
      "    >>> np.arange(3,7,2)\n",
      "    array([3, 5])\n",
      "\n"
     ]
    }
   ],
   "source": [
    "### Try uncommenting (delete the `#` symbol at the beginning of the line) any of these\n",
    "help(arange)\n",
    "#help(plot)\n",
    "#help(zeros)\n",
    "#help(linspace)\n",
    "\n",
    "### You can also use `?` instead of `help()`\n",
    "### Try uncommenting and running one of the following lines\n",
    "#?plot\n",
    "#?zeros\n",
    "#?linspace"
   ]
  },
  {
   "cell_type": "markdown",
   "metadata": {},
   "source": [
    "# Euler's Method\n",
    "Suppose we have a scalar ODE of the form $$ \\dot{x} = f(x). $$ For example, consider the Logistic Growth equation\n",
    "$$ \\dot{x} = rx \\left(1 - \\frac{x}{K}\\right),$$\n",
    "where $r$ is the intrinsic growth rate and $K$ is the population carying capacity. We will need an initial condition of the form \n",
    "$$ x(0) = x_0,$$\n",
    "where $x_0 \\geq 0$.\n",
    "\n",
    "Euler's Method can be written as\n",
    "$$ x(t + \\Delta t) = x(t) + \\Delta t f(x(t)) $$\n",
    "We can code this by using a `for loop` as follows."
   ]
  },
  {
   "cell_type": "code",
   "execution_count": 5,
   "metadata": {},
   "outputs": [
    {
     "data": {
      "image/png": "[encoded data removed]",
      "text/plain": [
       "<Figure size 432x288 with 1 Axes>"
      ]
     },
     "metadata": {
      "image/png": {
       "height": 287,
       "width": 394
      },
      "needs_background": "light"
     },
     "output_type": "display_data"
    }
   ],
   "source": [
    "\n",
    "### Model Parameters\n",
    "r = 1. # intrinsic growth rate\n",
    "K = 10. # carrying capacity\n",
    "x0 = 1.5 # the initial condition (TRY CHANGING THIS VALUE)\n",
    "\n",
    "### Euler's method parameters\n",
    "Delta_t = 0.1 # The size of the time step\n",
    "Nsteps = 100 # The number of time steps to run\n",
    "x = zeros(Nsteps) # an array of zeros to store the solution in\n",
    "x[0] = x0 # store the initial condition\n",
    "def f_logistic(x): # the ligistic growth RHS function\n",
    "    return r*x*(1 - x/K)\n",
    "\n",
    "####### The simulation loop #########\n",
    "for n in arange(1, Nsteps): # loop from n=1 up to n=Nsteps-1\n",
    "    x[n] = x[n-1] + Delta_t*f_logistic(x[n-1])\n",
    "\n",
    "####### Plot the solution #########\n",
    "t = Delta_t*arange(Nsteps) \n",
    "plot(t, x)\n",
    "title(\"Logistic Growth with Euler's Method\")\n",
    "xlabel('t', fontsize=20)\n",
    "ylabel('x', fontsize=20);"
   ]
  },
  {
   "cell_type": "code",
   "execution_count": 6,
   "metadata": {},
   "outputs": [
    {
     "data": {
      "application/vnd.jupyter.widget-view+json": {
       "model_id": "192b59df97c4469cb7fda74521efc8ed",
       "version_major": 2,
       "version_minor": 0
      },
      "text/plain": [
       "interactive(children=(FloatSlider(value=1.0, description='x0', max=20.0, step=0.5), Output()), _dom_classes=('…"
      ]
     },
     "metadata": {},
     "output_type": "display_data"
    }
   ],
   "source": [
    "@interact(x0=(0., 20., 0.5))\n",
    "def logistic_widget(x0=1.):\n",
    "    ### Model Parameters\n",
    "    r = 1. # intrinsic growth rate\n",
    "    K = 10. # carrying capacity\n",
    "\n",
    "    ### Euler's method parameters\n",
    "    Delta_t = 0.1 # The size of the time step\n",
    "    Nsteps = 100 # The number of time steps to run\n",
    "    x = zeros(Nsteps) # an array of zeros to store the solution in\n",
    "    x[0] = x0 # store the initial condition\n",
    "    def f_logistic(x): # the ligistic growth RHS function\n",
    "        return r*x*(1 - x/K)\n",
    "\n",
    "    ####### The simulation loop #########\n",
    "    for n in arange(1, Nsteps): # loop from n=1 up to n=Nsteps-1\n",
    "        x[n] = x[n-1] + Delta_t*f_logistic(x[n-1])\n",
    "\n",
    "    ####### Plot the solution #########\n",
    "    t = Delta_t*arange(Nsteps) \n",
    "    plot(t, x)\n",
    "    title(\"Logistic Growth with Euler's Method\")\n",
    "    xlabel('t', fontsize=20)\n",
    "    ylabel('x', fontsize=20);"
   ]
  },
  {
   "cell_type": "markdown",
   "metadata": {},
   "source": [
    "# Try a different equation\n",
    "Can you modify the code to approximate the solution to a different ODE? Use another scalar equation that we cover in the lecture or the book. Copy the code from the \"cell\" above and paste it into the blank cell below. "
   ]
  },
  {
   "cell_type": "code",
   "execution_count": null,
   "metadata": {},
   "outputs": [],
   "source": []
  }
 ],
 "metadata": {
  "kernelspec": {
   "display_name": "Python 3",
   "language": "python",
   "name": "python3"
  },
  "language_info": {
   "codemirror_mode": {
    "name": "ipython",
    "version": 3
   },
   "file_extension": ".py",
   "mimetype": "text/x-python",
   "name": "python",
   "nbconvert_exporter": "python",
   "pygments_lexer": "ipython3",
   "version": "3.6.9"
  }
 },
 "nbformat": 4,
 "nbformat_minor": 2
}
