{
 "cells": [
  {
   "cell_type": "code",
   "execution_count": 8,
   "metadata": {},
   "outputs": [
    {
     "name": "stdout",
     "output_type": "stream",
     "text": [
      "Populating the interactive namespace from numpy and matplotlib\n"
     ]
    }
   ],
   "source": [
    "%pylab inline\n",
    "%config InlineBackend.figure_format = 'retina'\n",
    "from ipywidgets import interact\n",
    "from IPython.display import display, HTML"
   ]
  },
  {
   "cell_type": "markdown",
   "metadata": {},
   "source": [
    "# Salmonella run and tumble motion"
   ]
  },
  {
   "cell_type": "code",
   "execution_count": 5,
   "metadata": {},
   "outputs": [
    {
     "data": {
      "text/html": [
       "<video width=\"512\" height=\"512\"\n",
       "    controls autoplay loop \n",
       "    src=\"https://storage.googleapis.com/my_slides/misc/Salmonella2Buffer1%20(bone).mp4\"\n",
       "    >"
      ],
      "text/plain": [
       "<IPython.core.display.HTML object>"
      ]
     },
     "execution_count": 5,
     "metadata": {},
     "output_type": "execute_result"
    }
   ],
   "source": [
    "HTML(\n",
    "    \"\"\"<video width=\"512\" height=\"512\"\n",
    "    controls autoplay loop \n",
    "    src=\"https://storage.googleapis.com/my_slides/misc/Salmonella2Buffer1%20(bone).mp4\"\n",
    "    >\"\"\")"
   ]
  },
  {
   "cell_type": "markdown",
   "metadata": {},
   "source": [
    "# First passage time for diffusion through a layer\n",
    "Brownian motion through a layer can model passage of a virus through a mucus barrier. Assume that the layer has infinite length and width and a finite thickness $L$. That is, the layer is made up of positions $(x,y,z) \\in \\mathbb{R}^2\\times [0, L]$ so that $z\\in[0, L]$. The motion of the virus is in 3D, however, due to the symmetry of the problem, we can restrict our attention to 1D for the z-component of the motion. Assume that the virus moves by Brownian motion with diffusivity $D$. We will assume that $D=2\\mu {\\rm m}^2/{\\rm sec}$. Mucus barriers have thickness $L$ in the range of 10-1000$\\mu {\\rm m}$. Assume that the virus starts at the lumen-mucus interface $Z(0) = 0$, where we will assume a reflecting boundary. We want to sample the first passage time for the virus to reach $z=L$; that is, we want to determine\n",
    "$$ \\tau = \\inf\\{t>0 \\mid Z(t) \\geq L, Z(0) = 0\\}. $$"
   ]
  },
  {
   "cell_type": "code",
   "execution_count": 48,
   "metadata": {},
   "outputs": [
    {
     "name": "stdout",
     "output_type": "stream",
     "text": [
      "Mean first passage time (simulations): 629.8052999999867\n",
      "Mean first passage time (exact): 625.0\n"
     ]
    },
    {
     "data": {
      "image/png": "[encoded data removed]",
      "text/plain": [
       "<Figure size 432x288 with 1 Axes>"
      ]
     },
     "metadata": {
      "image/png": {
       "height": 275,
       "width": 402
      },
      "needs_background": "light"
     },
     "output_type": "display_data"
    }
   ],
   "source": [
    "D = 2\n",
    "sigma = sqrt(2.*D)\n",
    "L = 50. \n",
    "\n",
    "def first_passage_time():\n",
    "    dt = 0.1\n",
    "    z0 = 0\n",
    "    # Z = zeros(Nsteps) # we do not need to store the entire path\n",
    "    # Z[0] = z0\n",
    "    z = z0\n",
    "    t = 0\n",
    "    while True: # this will simply loop forever unless otherwise stopped in the loop\n",
    "        ## if a bug ever causes a loop to continue forever, you can halt the process by\n",
    "        ## pushing the 'interupt' button (looks like a stop button in the toolbar)\n",
    "        z = z + sigma*sqrt(dt)*normal(0, 1, 1)\n",
    "        t = t + dt\n",
    "        ## reflecting boundary at z=0\n",
    "        if z < 0:\n",
    "            z = -z\n",
    "        ## check to see if z=L has been reached\n",
    "        if z >= L:\n",
    "            return t ## this stops the loop and returns the time\n",
    "def first_passage_time_FAST(): ## this is a faster version\n",
    "    dt = 0.1\n",
    "    dW_stdev = sigma*sqrt(dt)\n",
    "    z0 = 0\n",
    "    Nbuffer = 10000\n",
    "    # Z = zeros(Nsteps) # we do not need to store the entire path\n",
    "    # Z[0] = z0\n",
    "    z = z0\n",
    "    t = 0\n",
    "    j = 0\n",
    "    while True: # this will simply loop forever unless otherwise stopped in the loop\n",
    "        ## if a bug ever causes a loop to continue forever, you can halt the process by\n",
    "        ## pushing the 'interupt' button (looks like a stop button in the toolbar)\n",
    "        if j%Nbuffer == 0:\n",
    "            dW = normal(0, dW_stdev, Nbuffer)\n",
    "            j = 0\n",
    "        z += dW[j]\n",
    "        t += dt\n",
    "        j += 1\n",
    "        ## reflecting boundary at z=0\n",
    "        if z < 0:\n",
    "            z = -z\n",
    "        ## check to see if z=L has been reached\n",
    "        if z >= L:\n",
    "            return t ## this stops the loop and returns the time\n",
    "## we want to collect many samples of the first passage time in an array\n",
    "Nsamples = 1000\n",
    "## Way 1: get samples using a for loop\n",
    "T = zeros(Nsamples) ## to store samples of first passage time\n",
    "for n in arange(Nsamples):\n",
    "    T[n] = first_passage_time_FAST()\n",
    "## Way 2: this is a short hand way of computing T, same as the three lines in Way 1\n",
    "T = array([first_passage_time() for n in arange(Nsamples)]) \n",
    "\n",
    "## Figure\n",
    "figure(1, [6, 4])    \n",
    "hist(T, bins=20)\n",
    "xlabel(r'$\\tau$', fontsize=24)\n",
    "ylabel('count', fontsize=24);\n",
    "\n",
    "print('Mean first passage time (simulations):', T.mean())\n",
    "print('Mean first passage time (exact):', L**2/(2*D))"
   ]
  }
 ],
 "metadata": {
  "kernelspec": {
   "display_name": "Python 3",
   "language": "python",
   "name": "python3"
  },
  "language_info": {
   "codemirror_mode": {
    "name": "ipython",
    "version": 3
   },
   "file_extension": ".py",
   "mimetype": "text/x-python",
   "name": "python",
   "nbconvert_exporter": "python",
   "pygments_lexer": "ipython3",
   "version": "3.6.9"
  }
 },
 "nbformat": 4,
 "nbformat_minor": 2
}
