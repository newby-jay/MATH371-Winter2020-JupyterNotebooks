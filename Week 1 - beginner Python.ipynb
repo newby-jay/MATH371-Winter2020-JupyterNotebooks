{
 "cells": [
  {
   "cell_type": "markdown",
   "metadata": {},
   "source": [
    "# In this class, you will learn to use Python!\n",
    "Helpful online reference for Python \n",
    "  * https://docs.python.org/3/tutorial/introduction.html\n",
    "  * https://docs.python.org/3/tutorial/controlflow.html\n",
    "  \n",
    "Optional extra learning material: An online course for Python \n",
    "  * https://ocw.mit.edu/courses/electrical-engineering-and-computer-science/6-0001-introduction-to-computer-science-and-programming-in-python-fall-2016/index.htm"
   ]
  },
  {
   "cell_type": "code",
   "execution_count": 2,
   "metadata": {},
   "outputs": [
    {
     "name": "stdout",
     "output_type": "stream",
     "text": [
      "Populating the interactive namespace from numpy and matplotlib\n"
     ]
    }
   ],
   "source": [
    "#### These three lines should be in a cell at the top of any notebook\n",
    "#### These lines load standard tools that will be usefull to us\n",
    "%pylab inline\n",
    "%config InlineBackend.figure_format = 'retina'\n",
    "from ipywidgets import interact"
   ]
  },
  {
   "cell_type": "markdown",
   "metadata": {},
   "source": [
    "# Understanding cell output\n",
    "Use the `print()` function to output raw values stored in a variable"
   ]
  },
  {
   "cell_type": "code",
   "execution_count": 2,
   "metadata": {},
   "outputs": [
    {
     "name": "stdout",
     "output_type": "stream",
     "text": [
      "hello world\n",
      "10 1.1321\n",
      "[0 1 2]\n"
     ]
    }
   ],
   "source": [
    "print('hello world')\n",
    "print(10, 1.1321)\n",
    "n = arange(3)\n",
    "print(n)"
   ]
  },
  {
   "cell_type": "markdown",
   "metadata": {},
   "source": [
    "# How to get help within Jupyter"
   ]
  },
  {
   "cell_type": "code",
   "execution_count": 3,
   "metadata": {},
   "outputs": [
    {
     "name": "stdout",
     "output_type": "stream",
     "text": [
      "Help on built-in function arange in module numpy:\n",
      "\n",
      "arange(...)\n",
      "    arange([start,] stop[, step,], dtype=None)\n",
      "    \n",
      "    Return evenly spaced values within a given interval.\n",
      "    \n",
      "    Values are generated within the half-open interval ``[start, stop)``\n",
      "    (in other words, the interval including `start` but excluding `stop`).\n",
      "    For integer arguments the function is equivalent to the Python built-in\n",
      "    `range` function, but returns an ndarray rather than a list.\n",
      "    \n",
      "    When using a non-integer step, such as 0.1, the results will often not\n",
      "    be consistent.  It is better to use `numpy.linspace` for these cases.\n",
      "    \n",
      "    Parameters\n",
      "    ----------\n",
      "    start : number, optional\n",
      "        Start of interval.  The interval includes this value.  The default\n",
      "        start value is 0.\n",
      "    stop : number\n",
      "        End of interval.  The interval does not include this value, except\n",
      "        in some cases where `step` is not an integer and floating point\n",
      "        round-off affects the length of `out`.\n",
      "    step : number, optional\n",
      "        Spacing between values.  For any output `out`, this is the distance\n",
      "        between two adjacent values, ``out[i+1] - out[i]``.  The default\n",
      "        step size is 1.  If `step` is specified as a position argument,\n",
      "        `start` must also be given.\n",
      "    dtype : dtype\n",
      "        The type of the output array.  If `dtype` is not given, infer the data\n",
      "        type from the other input arguments.\n",
      "    \n",
      "    Returns\n",
      "    -------\n",
      "    arange : ndarray\n",
      "        Array of evenly spaced values.\n",
      "    \n",
      "        For floating point arguments, the length of the result is\n",
      "        ``ceil((stop - start)/step)``.  Because of floating point overflow,\n",
      "        this rule may result in the last element of `out` being greater\n",
      "        than `stop`.\n",
      "    \n",
      "    See Also\n",
      "    --------\n",
      "    linspace : Evenly spaced numbers with careful handling of endpoints.\n",
      "    ogrid: Arrays of evenly spaced numbers in N-dimensions.\n",
      "    mgrid: Grid-shaped arrays of evenly spaced numbers in N-dimensions.\n",
      "    \n",
      "    Examples\n",
      "    --------\n",
      "    >>> np.arange(3)\n",
      "    array([0, 1, 2])\n",
      "    >>> np.arange(3.0)\n",
      "    array([ 0.,  1.,  2.])\n",
      "    >>> np.arange(3,7)\n",
      "    array([3, 4, 5, 6])\n",
      "    >>> np.arange(3,7,2)\n",
      "    array([3, 5])\n",
      "\n"
     ]
    }
   ],
   "source": [
    "### Try uncommenting (delete the `#` symbol at the beginning of the line) any of these\n",
    "help(arange)\n",
    "#help(plot)\n",
    "#help(zeros)\n",
    "#help(linspace)\n",
    "\n",
    "### You can also use `?` instead of `help()`\n",
    "### Try uncommenting and running one of the following lines\n",
    "#?plot\n",
    "#?zeros\n",
    "#?linspace"
   ]
  },
  {
   "cell_type": "markdown",
   "metadata": {},
   "source": [
    "# Lesson 1\n",
    "Every time you execute a cell (shift + return), the variables are saved into the workspace. If you push the reset button (circle with the arrow at the top or the 'Kernel' tab -> restart) the workspace is cleared. After restarting, you will have to run the top cell that loads the common modules. If you don't you will likely get an error. \n",
    "\n",
    "If you run a cell that depends on variables that were generated in a previous cell, then you might get an error if you execute them out of order."
   ]
  },
  {
   "cell_type": "code",
   "execution_count": 4,
   "metadata": {},
   "outputs": [
    {
     "name": "stdout",
     "output_type": "stream",
     "text": [
      "2.2\n"
     ]
    }
   ],
   "source": [
    "## Lesson 1, cell A\n",
    "x = 2.2\n",
    "print(x)"
   ]
  },
  {
   "cell_type": "code",
   "execution_count": 5,
   "metadata": {},
   "outputs": [
    {
     "name": "stdout",
     "output_type": "stream",
     "text": [
      "11.0\n"
     ]
    }
   ],
   "source": [
    "## Lesson 1, cell B\n",
    "y = x*5\n",
    "print(y)"
   ]
  },
  {
   "cell_type": "markdown",
   "metadata": {},
   "source": [
    "# Try restarting the notebook\n",
    "  * Restart the notebook (circle with the arrow at the top or the 'Kernel' tab -> restart)\n",
    "  * Execute Lesson 1, cell B. If you restarted the notebook successfully, you should get an error.\n",
    "  * Now execute Lesson 1, cell A first. Do you get an error? Now do you get an error if you execute Execute 1, cell B?"
   ]
  },
  {
   "cell_type": "markdown",
   "metadata": {},
   "source": [
    "# Some math\n",
    "Most mathematical operations work as expected. For example\n",
    "  * $xy$ = `x*y`\n",
    "  * $x/y$ = `x/y`\n",
    "  * $\\ln(x)$ = `log(x)`\n",
    "\n",
    "But some work differently\n",
    "  * $x^2$ = `x**2`"
   ]
  },
  {
   "cell_type": "code",
   "execution_count": 4,
   "metadata": {},
   "outputs": [
    {
     "name": "stdout",
     "output_type": "stream",
     "text": [
      "x^2 = 30.25\n"
     ]
    }
   ],
   "source": [
    "x = 5.5\n",
    "print('x^2 =', x**2)"
   ]
  },
  {
   "cell_type": "markdown",
   "metadata": {},
   "source": [
    "# What happens if you try `x^2` instead of `x**2`?"
   ]
  },
  {
   "cell_type": "code",
   "execution_count": 10,
   "metadata": {
    "scrolled": true
   },
   "outputs": [
    {
     "ename": "TypeError",
     "evalue": "unsupported operand type(s) for ^: 'float' and 'int'",
     "output_type": "error",
     "traceback": [
      "\u001b[0;31m---------------------------------------------------------------------------\u001b[0m",
      "\u001b[0;31mTypeError\u001b[0m                                 Traceback (most recent call last)",
      "\u001b[0;32m<ipython-input-10-4354d97a0b25>\u001b[0m in \u001b[0;36m<module>\u001b[0;34m\u001b[0m\n\u001b[1;32m      1\u001b[0m \u001b[0mx\u001b[0m \u001b[0;34m=\u001b[0m \u001b[0;36m1.5\u001b[0m\u001b[0;34m\u001b[0m\u001b[0;34m\u001b[0m\u001b[0m\n\u001b[0;32m----> 2\u001b[0;31m \u001b[0my\u001b[0m \u001b[0;34m=\u001b[0m \u001b[0mx\u001b[0m\u001b[0;34m^\u001b[0m\u001b[0;36m2\u001b[0m\u001b[0;34m\u001b[0m\u001b[0;34m\u001b[0m\u001b[0m\n\u001b[0m\u001b[1;32m      3\u001b[0m \u001b[0mprint\u001b[0m\u001b[0;34m(\u001b[0m\u001b[0;34m'x^2 ='\u001b[0m\u001b[0;34m,\u001b[0m \u001b[0my\u001b[0m\u001b[0;34m)\u001b[0m\u001b[0;34m\u001b[0m\u001b[0;34m\u001b[0m\u001b[0m\n",
      "\u001b[0;31mTypeError\u001b[0m: unsupported operand type(s) for ^: 'float' and 'int'"
     ]
    }
   ],
   "source": [
    "x = 1.5\n",
    "y = x^2\n",
    "print('x^2 =', y)"
   ]
  },
  {
   "cell_type": "markdown",
   "metadata": {},
   "source": [
    "# Lesson 2: Arrays\n",
    "Arrays are similar to mathematical vectors. Typically, it is a collection of numbers that can be accessed by an integer index. For example $x = [20, 4, 7]$ is an array with $x[0] = 20$, $x[1] = 4$, etc.\n",
    "\n",
    "Accessing array elements is done using square brackets. If $j$ is an integer and $x$ is an array then $x[j]$ is the jth element of the array.\n",
    "\n",
    "There are three types of arrays that are useful for us. Examples of each are included in the following cells.\n",
    "  1. **Lists:** A list is very simple and adaptable. You don't need to know how large a list will be (i.e., how  many elements it will have) before you create one. However, you cannot do mathematical operations on a list\n",
    "  2. **Numpy array:** You must know how many elements this type of array will have when you create it. The benifit is that you can do mathematical operations to it. By default mathematical operations are applied to each element individually.\n",
    "  3. **Numpy matrix:** Almost identical to a Numpy array, except that mathematical operations follow the linear algebra definitions by default"
   ]
  },
  {
   "cell_type": "code",
   "execution_count": 6,
   "metadata": {},
   "outputs": [
    {
     "name": "stdout",
     "output_type": "stream",
     "text": [
      "[6, 22, 4]\n",
      "[9, -5.1, 0]\n"
     ]
    }
   ],
   "source": [
    "### Lists\n",
    "a_list = [6, 22, 4]\n",
    "print(a_list)\n",
    "another_list = [9, -5.1, 0]\n",
    "print(another_list)"
   ]
  },
  {
   "cell_type": "code",
   "execution_count": 7,
   "metadata": {},
   "outputs": [
    {
     "ename": "TypeError",
     "evalue": "can't multiply sequence by non-int of type 'list'",
     "output_type": "error",
     "traceback": [
      "\u001b[0;31m---------------------------------------------------------------------------\u001b[0m",
      "\u001b[0;31mTypeError\u001b[0m                                 Traceback (most recent call last)",
      "\u001b[0;32m<ipython-input-7-45d340d06d3b>\u001b[0m in \u001b[0;36m<module>\u001b[0;34m\u001b[0m\n\u001b[0;32m----> 1\u001b[0;31m \u001b[0ma_list\u001b[0m\u001b[0;34m*\u001b[0m\u001b[0manother_list\u001b[0m\u001b[0;34m\u001b[0m\u001b[0;34m\u001b[0m\u001b[0m\n\u001b[0m",
      "\u001b[0;31mTypeError\u001b[0m: can't multiply sequence by non-int of type 'list'"
     ]
    }
   ],
   "source": [
    "a_list*another_list"
   ]
  },
  {
   "cell_type": "code",
   "execution_count": 8,
   "metadata": {},
   "outputs": [
    {
     "name": "stdout",
     "output_type": "stream",
     "text": [
      "[ 6 22  4]\n",
      "[ 9.  -5.1  0. ]\n",
      "[  54.  -112.2    0. ]\n"
     ]
    }
   ],
   "source": [
    "a_npArray = array([6, 22, 4])\n",
    "print(a_npArray)\n",
    "another_npArray = array([9, -5.1, 0])\n",
    "print(another_npArray)\n",
    "y = a_npArray*another_npArray\n",
    "print(y)"
   ]
  },
  {
   "cell_type": "code",
   "execution_count": 19,
   "metadata": {},
   "outputs": [
    {
     "name": "stdout",
     "output_type": "stream",
     "text": [
      "[[ 6 22  4]]\n",
      "Transpose of a matrix (also works for arrays)\n",
      "[[ 6]\n",
      " [22]\n",
      " [ 4]]\n",
      "elementwise is the default for Numpy arrays\n",
      "[ 36 484  16]\n",
      "linear algebra is the default for Numpy matrices\n",
      "[[536]]\n"
     ]
    }
   ],
   "source": [
    "a_npMatrix = matrix([6, 22, 4])\n",
    "print(a_npMatrix)\n",
    "print('Transpose of a matrix (also works for arrays)')\n",
    "print(a_npMatrix.T)\n",
    "print('elementwise is the default for Numpy arrays')\n",
    "print(a_npArray*a_npArray.T)\n",
    "print('linear algebra is the default for Numpy matrices')\n",
    "print(a_npMatrix*a_npMatrix.T)"
   ]
  },
  {
   "cell_type": "markdown",
   "metadata": {},
   "source": [
    "# You can easily convert between lists, arrays, and matrices as needed"
   ]
  },
  {
   "cell_type": "code",
   "execution_count": 44,
   "metadata": {},
   "outputs": [],
   "source": [
    "x = [1, 4, 3]\n",
    "y = array(x) # convert from a list to an array\n",
    "z = matrix(x) # convert from a list to a matrix\n",
    "u = matrix(y) # convert from an array to matrix\n",
    "v = list(y) # convert from an array to a list\n",
    "p = list(z) # convert from a matrix to a list"
   ]
  },
  {
   "cell_type": "markdown",
   "metadata": {},
   "source": [
    "# Lesson 3: for loops\n",
    "In this class, the `for loop` will play an important role. A loop is a way of repeating a proceedure a certain number of times. For loops are initiated with the word `for`, followed by the choice of a loop variable and the values the loop variable will take during each iteration. To specify the range of values, the most common approach is to use the function `arange()` which creates an array of integers. \n",
    "\n",
    "The body of the loop is the code that gets repeated. It is specified by indenting each line (the first line that defines the loop is not indented). The body of the loop ends on the first line that is unindented. \n",
    "\n",
    "Several examples are included below."
   ]
  },
  {
   "cell_type": "code",
   "execution_count": 28,
   "metadata": {},
   "outputs": [
    {
     "name": "stdout",
     "output_type": "stream",
     "text": [
      "hello world\n",
      "hello world\n",
      "hello world\n",
      "hello world\n",
      "hello world\n",
      "hello world\n",
      "hello world\n",
      "hello world\n",
      "hello world\n",
      "hello world\n",
      "hello world\n",
      "hello world\n",
      "hello world\n",
      "Loop finished now\n"
     ]
    }
   ],
   "source": [
    "for n in arange(13):\n",
    "    print('hello world')\n",
    "print('Loop finished now')"
   ]
  },
  {
   "cell_type": "code",
   "execution_count": 20,
   "metadata": {},
   "outputs": [
    {
     "name": "stdout",
     "output_type": "stream",
     "text": [
      "0\n",
      "1\n",
      "2\n",
      "3\n",
      "4\n"
     ]
    }
   ],
   "source": [
    "for j in arange(5):\n",
    "    print(j)"
   ]
  },
  {
   "cell_type": "code",
   "execution_count": 21,
   "metadata": {},
   "outputs": [
    {
     "name": "stdout",
     "output_type": "stream",
     "text": [
      "0\n",
      "1\n",
      "4\n"
     ]
    }
   ],
   "source": [
    "for q in arange(3):\n",
    "    print(q**2)"
   ]
  },
  {
   "cell_type": "code",
   "execution_count": 27,
   "metadata": {},
   "outputs": [
    {
     "name": "stdout",
     "output_type": "stream",
     "text": [
      "3\n",
      "4\n",
      "5\n",
      "6\n",
      "7\n"
     ]
    }
   ],
   "source": [
    "for m in arange(3, 8):\n",
    "    print(m)"
   ]
  },
  {
   "cell_type": "code",
   "execution_count": 41,
   "metadata": {},
   "outputs": [
    {
     "name": "stdout",
     "output_type": "stream",
     "text": [
      "[0.0]\n",
      "[0.0, -0.5012770485883448]\n",
      "[0.0, -0.5012770485883448, 0.8674968696188059]\n",
      "[0.0, -0.5012770485883448, 0.8674968696188059, -0.9999902065507035]\n",
      "Loop is finished\n",
      "[0.         0.25127868 0.75255082 0.99998041]\n"
     ]
    }
   ],
   "source": [
    "a_list = [] # an empty list that we will fill up with values\n",
    "t = linspace(0, 11, 4) # creates an array of (4) evenly spaced points between 0 and 11\n",
    "for j in arange(4):\n",
    "    y = sin(t[j])\n",
    "    a_list.append(y) # inserts the value of y to the end of the list\n",
    "    print(a_list)\n",
    "print('Loop is finished')\n",
    "an_array = array(a_list)\n",
    "print(an_array**2)"
   ]
  },
  {
   "cell_type": "markdown",
   "metadata": {},
   "source": [
    "# Lesson 4: functions\n",
    "Functions work much like mathematical functions: they take an input and return an output. Some examples are bellow."
   ]
  },
  {
   "cell_type": "code",
   "execution_count": 29,
   "metadata": {},
   "outputs": [
    {
     "name": "stdout",
     "output_type": "stream",
     "text": [
      "4\n",
      "10\n"
     ]
    }
   ],
   "source": [
    "def some_function(x):\n",
    "    y = 2*x\n",
    "    return y\n",
    "\n",
    "print(some_function(2))\n",
    "print(some_function(5))"
   ]
  },
  {
   "cell_type": "code",
   "execution_count": 31,
   "metadata": {},
   "outputs": [
    {
     "name": "stdout",
     "output_type": "stream",
     "text": [
      "45.0\n",
      "-37.0\n"
     ]
    }
   ],
   "source": [
    "def another_function(x, y, z):\n",
    "    s1 = 2*x\n",
    "    s2 = s1 + 5/y\n",
    "    s3 = z*s2\n",
    "    return s3\n",
    "\n",
    "print(another_function(2, 1, 5))\n",
    "print(another_function(16, 1, -1))"
   ]
  },
  {
   "cell_type": "markdown",
   "metadata": {},
   "source": [
    "# Lesson 5: if statements\n",
    "If statements are a useful tool for controlling the behavior of your program. "
   ]
  },
  {
   "cell_type": "code",
   "execution_count": 35,
   "metadata": {},
   "outputs": [
    {
     "name": "stdout",
     "output_type": "stream",
     "text": [
      "x is greater than 10\n"
     ]
    }
   ],
   "source": [
    "x = 11 # try changing this value\n",
    "if x < 5:\n",
    "    print('x is less than 5')\n",
    "elif x > 10:\n",
    "    print('x is greater than 10')\n",
    "else:\n",
    "    print('x is neither less than 5 nor greater than 10')"
   ]
  },
  {
   "cell_type": "code",
   "execution_count": 36,
   "metadata": {},
   "outputs": [
    {
     "name": "stdout",
     "output_type": "stream",
     "text": [
      "x is greater than 10\n",
      "x is neither less than 5 nor greater than 10\n",
      "x is less than 5\n"
     ]
    }
   ],
   "source": [
    "def fancy_function(x):\n",
    "    if x < 5:\n",
    "        return 'x is less than 5'\n",
    "    elif x > 10:\n",
    "        return 'x is greater than 10'\n",
    "    else:\n",
    "        return 'x is neither less than 5 nor greater than 10'\n",
    "    \n",
    "print(fancy_function(11))\n",
    "print(fancy_function(8))\n",
    "print(fancy_function(1))"
   ]
  },
  {
   "cell_type": "code",
   "execution_count": null,
   "metadata": {},
   "outputs": [],
   "source": []
  }
 ],
 "metadata": {
  "kernelspec": {
   "display_name": "Python 3",
   "language": "python",
   "name": "python3"
  },
  "language_info": {
   "codemirror_mode": {
    "name": "ipython",
    "version": 3
   },
   "file_extension": ".py",
   "mimetype": "text/x-python",
   "name": "python",
   "nbconvert_exporter": "python",
   "pygments_lexer": "ipython3",
   "version": "3.6.9"
  }
 },
 "nbformat": 4,
 "nbformat_minor": 2
}
